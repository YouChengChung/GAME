{
 "cells": [
  {
   "attachments": {},
   "cell_type": "markdown",
   "metadata": {},
   "source": [
    "雙人:選擇位置-判斷勝負\n",
    "人機:決定順序-選擇圖像-選擇位置-判斷勝負\n",
    "電腦下棋:判斷是否能贏->複製當前 迴圈判斷每個位置是否勝利 回傳勝利位置\n",
    "        判斷對方下一步是否能贏\n"
   ]
  },
  {
   "cell_type": "code",
   "execution_count": 53,
   "metadata": {},
   "outputs": [
    {
     "name": "stdout",
     "output_type": "stream",
     "text": [
      "  7| 8 |9\n",
      "------------\n",
      "  4| 5 |6\n",
      "------------\n",
      "  1| 2 |3\n",
      "********************\n",
      "  7| 8 |9\n",
      "------------\n",
      "  4| X |6\n",
      "------------\n",
      "  1| 2 |3\n",
      "********************\n",
      "continue\n",
      "  7| 8 |O\n",
      "------------\n",
      "  4| X |6\n",
      "------------\n",
      "  1| 2 |3\n",
      "********************\n",
      "continue\n",
      "  7| 8 |O\n",
      "------------\n",
      "  4| X |6\n",
      "------------\n",
      "  X| 2 |3\n",
      "********************\n",
      "continue\n",
      "  7| 8 |O\n",
      "------------\n",
      "  4| X |6\n",
      "------------\n",
      "  X| 2 |O\n",
      "********************\n",
      "continue\n",
      "  7| 8 |O\n",
      "------------\n",
      "  4| X |X\n",
      "------------\n",
      "  X| 2 |O\n",
      "********************\n",
      "continue\n",
      "  7| 8 |O\n",
      "------------\n",
      "  4| X |X\n",
      "------------\n",
      "  X| O |O\n",
      "********************\n",
      "continue\n",
      "  7| 8 |O\n",
      "------------\n",
      "  X| X |X\n",
      "------------\n",
      "  X| O |O\n",
      "********************\n",
      "finish\n"
     ]
    }
   ],
   "source": [
    "import random as rd\n",
    "class GAME_tictactoe:\n",
    "    def __init__(self) :\n",
    "        self.board1=\"0123456789\"\n",
    "    def DrawBoard(self):\n",
    "        #print('   |   |')\n",
    "        print('  '+self.board1[7]+'| '+self.board1[8]+' |'+self.board1[9])\n",
    "        print(\"-\"*12)\n",
    "        print('  '+self.board1[4]+'| '+self.board1[5]+' |'+self.board1[6])\n",
    "        print(\"-\"*12)\n",
    "        print('  '+self.board1[1]+'| '+self.board1[2]+' |'+self.board1[3])\n",
    "        #print('   |   |')\n",
    "        print(\"*\"*20)\n",
    "\n",
    "    def player_move(self,a):\n",
    "        if str(a) in self.board1:\n",
    "            self.board1 = self.board1.replace(self.board1[a],\"X\")\n",
    "        else:\n",
    "            print(\"重複\")\n",
    "        self.DrawBoard()\n",
    "\n",
    "    def player2_move(self,a):\n",
    "        if str(a) in self.board1:\n",
    "            self.board1 = self.board1.replace(self.board1[a],\"O\")\n",
    "        else:\n",
    "            print(\"重複\")\n",
    "        self.DrawBoard()\n",
    "\n",
    "    def computer_move(self):\n",
    "        if self.board1[5]==\"5\":\n",
    "            self.board1 = self.board1.replace(self.board1[5],\"O\")\n",
    "        if \"O\" not in self.board1[1:10:2]:\n",
    "            self.board1 = self.board1.replace(self.board1[5],\"O\")\n",
    "        else:\n",
    "            while True:\n",
    "                com_num = rd.sample(range(1,10),1)\n",
    "                if str(com_num[0]) in self.board1:\n",
    "                    self.board1 = self.board1.replace(self.board1[com_num[0]],\"O\")\n",
    "                    break\n",
    "                else:\n",
    "                    print(\"?\",end=\"\")\n",
    "        print()\n",
    "        self.DrawBoard()\n",
    "    def judger(self):\n",
    "        if len(set(GAME1.board1[1:4]))==1 or len(set(GAME1.board1[4:7]))==1 or len(set(GAME1.board1[7:10]))==1 or len(set(GAME1.board1[1:4]))==1 or len(set(GAME1.board1[1:10:3]))==1 or len(set(GAME1.board1[2:10:3]))==1 or len(set(GAME1.board1[3:10:3]))==1 or len(set(GAME1.board1[1:10:4]))==1 or len(set(GAME1.board1[3:10:2]))==1:\n",
    "            print(\"finish\")\n",
    "            return True\n",
    "        else:\n",
    "            print(\"continue\")\n",
    "            return False\n",
    "#board1=\"0123456789\"\n",
    "\n",
    "GAME1 = GAME_tictactoe()\n",
    "GAME1.DrawBoard()\n",
    "while True:\n",
    "    player_choose =int(input())\n",
    "    player2_choose =int(input())\n",
    "    GAME1.player_move(player_choose)\n",
    "    if GAME1.judger() == True:\n",
    "        break\n",
    "    GAME1.computer_move()\n",
    "    if GAME1.judger() == True:\n",
    "        break\n",
    "    if len(set(GAME1.board1))==3:\n",
    "        print(\"和局\")\n",
    "        break\n",
    "\n",
    "\n",
    "\n",
    "\n",
    "\n"
   ]
  },
  {
   "cell_type": "code",
   "execution_count": 56,
   "metadata": {},
   "outputs": [
    {
     "name": "stdout",
     "output_type": "stream",
     "text": [
      "  7| 8 |9\n",
      "------------\n",
      "  4| 5 |6\n",
      "------------\n",
      "  1| 2 |3\n",
      "********************\n",
      "0123456789\n"
     ]
    },
    {
     "data": {
      "text/plain": [
       "'13579'"
      ]
     },
     "execution_count": 56,
     "metadata": {},
     "output_type": "execute_result"
    }
   ],
   "source": [
    "GAME1 = GAME_tictactoe()\n",
    "GAME1.DrawBoard()\n",
    "print(GAME1.board1)\n",
    "GAME1.board1[1:10:2]"
   ]
  }
 ],
 "metadata": {
  "kernelspec": {
   "display_name": "Python 3",
   "language": "python",
   "name": "python3"
  },
  "language_info": {
   "codemirror_mode": {
    "name": "ipython",
    "version": 3
   },
   "file_extension": ".py",
   "mimetype": "text/x-python",
   "name": "python",
   "nbconvert_exporter": "python",
   "pygments_lexer": "ipython3",
   "version": "3.8.5"
  },
  "orig_nbformat": 4,
  "vscode": {
   "interpreter": {
    "hash": "4bbd6dddf59da8c18c413141e5425410f4dbbd26dc67cf61a57b95968c3a42ab"
   }
  }
 },
 "nbformat": 4,
 "nbformat_minor": 2
}
