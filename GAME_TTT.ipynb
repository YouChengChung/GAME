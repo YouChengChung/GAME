{
 "cells": [
  {
   "attachments": {},
   "cell_type": "markdown",
   "metadata": {},
   "source": [
    "雙人:選擇位置-判斷勝負\n",
    "人機:決定順序-選擇圖像-選擇位置-判斷勝負\n",
    "電腦下棋:判斷是否能贏->複製當前 迴圈判斷每個位置是否勝利 回傳勝利位置\n",
    "        判斷對方下一步是否能贏\n"
   ]
  },
  {
   "cell_type": "code",
   "execution_count": 145,
   "metadata": {},
   "outputs": [
    {
     "name": "stdout",
     "output_type": "stream",
     "text": [
      "   |   |\n",
      "  7| 8 |9\n",
      "------------\n",
      "  4| 5 |6\n",
      "------------\n",
      "  1| 2 |3\n",
      "   |   |\n",
      "********************\n",
      "   |   |\n",
      "  7| 8 |9\n",
      "------------\n",
      "  4| X |6\n",
      "------------\n",
      "  1| 2 |3\n",
      "   |   |\n",
      "********************\n",
      "   |   |\n",
      "  7| 8 |9\n",
      "------------\n",
      "  4| X |6\n",
      "------------\n",
      "  O| 2 |3\n",
      "   |   |\n",
      "********************\n",
      "   |   |\n",
      "  X| 8 |9\n",
      "------------\n",
      "  4| X |6\n",
      "------------\n",
      "  O| 2 |3\n",
      "   |   |\n",
      "********************\n",
      "   |   |\n",
      "  X| 8 |9\n",
      "------------\n",
      "  4| X |6\n",
      "------------\n",
      "  O| 2 |O\n",
      "   |   |\n",
      "********************\n",
      "   |   |\n",
      "  X| 8 |9\n",
      "------------\n",
      "  4| X |6\n",
      "------------\n",
      "  O| X |O\n",
      "   |   |\n",
      "********************\n",
      "finish\n",
      "   |   |\n",
      "  X| O |9\n",
      "------------\n",
      "  4| X |6\n",
      "------------\n",
      "  O| X |O\n",
      "   |   |\n",
      "********************\n",
      "   |   |\n",
      "  X| O |X\n",
      "------------\n",
      "  4| X |6\n",
      "------------\n",
      "  O| X |O\n",
      "   |   |\n",
      "********************\n",
      "   |   |\n",
      "  X| O |X\n",
      "------------\n",
      "  O| X |6\n",
      "------------\n",
      "  O| X |O\n",
      "   |   |\n",
      "********************\n",
      "   |   |\n",
      "  X| O |X\n",
      "------------\n",
      "  O| X |X\n",
      "------------\n",
      "  O| X |O\n",
      "   |   |\n",
      "********************\n",
      "   |   |\n",
      "  X| O |X\n",
      "------------\n",
      "  O| X |X\n",
      "------------\n",
      "  O| X |O\n",
      "   |   |\n",
      "********************\n",
      "和局\n"
     ]
    }
   ],
   "source": [
    "import random as rd\n",
    "class GAME_tictactoe:\n",
    "    def __init__(self) :\n",
    "        self.board1=\"A123456789\"\n",
    "    def DrawBoard(self):\n",
    "        print('   |   |')\n",
    "        print('  '+self.board1[7]+'| '+self.board1[8]+' |'+self.board1[9])\n",
    "        print(\"-\"*12)\n",
    "        print('  '+self.board1[4]+'| '+self.board1[5]+' |'+self.board1[6])\n",
    "        print(\"-\"*12)\n",
    "        print('  '+self.board1[1]+'| '+self.board1[2]+' |'+self.board1[3])\n",
    "        print('   |   |')\n",
    "        print(\"*\"*20)\n",
    "\n",
    "    def player_move(self,a):\n",
    "        if str(a) in self.board1:\n",
    "            self.board1 = self.board1.replace(self.board1[a],\"X\")\n",
    "        else:\n",
    "            print(\"重複\")\n",
    "        self.DrawBoard()\n",
    "\n",
    "    def player2_move(self,a):\n",
    "        if str(a) in self.board1:\n",
    "            self.board1 = self.board1.replace(self.board1[a],\"O\")\n",
    "        else:\n",
    "            print(\"重複\")\n",
    "        self.DrawBoard()\n",
    "\n",
    "    def computer_move(self):\n",
    "        copyboard = self.board1\n",
    "        win = 0\n",
    "        while True:\n",
    "            for i in copyboard: #有可能贏or輸\n",
    "                if i.isdigit():\n",
    "                    i = str(i)\n",
    "                    copyboard = copyboard.replace(i,\"O\") #電腦會贏\n",
    "                    if judger(copyboard) ==True:\n",
    "                        win=1\n",
    "                        break\n",
    "                    else:\n",
    "                        copyboard = self.board1\n",
    "            if win==1:\n",
    "                break\n",
    "            copyboard = self.board1\n",
    "            for i in copyboard:\n",
    "                if i.isdigit():\n",
    "                    i=str(i)     \n",
    "                    copyboard = copyboard.replace(i,\"X\")#不下這裡下回合玩家會贏\n",
    "                    if judger(copyboard)==True:\n",
    "                        win=1\n",
    "                        break\n",
    "                    else:\n",
    "                        copyboard = self.board1\n",
    "            break\n",
    "        if win==1:\n",
    "            self.board1 = self.board1.replace(self.board1[int(i)],\"O\")\n",
    "        elif win ==0: #本次無關輸贏\n",
    "                for j in [1,3,7,9,5,2,4,6,8]:               \n",
    "                    if self.board1[j].isdigit() ==True:\n",
    "                        self.board1 = self.board1.replace(self.board1[int(j)],\"O\")\n",
    "                        break    \n",
    "\n",
    "        self.DrawBoard()\n",
    "def judger(a):\n",
    "    if len(set(a[1:4]))==1 or len(set(a[4:7]))==1 or len(set(a[7:10]))==1 or len(set(a[1:10:3]))==1 or len(set(a[2:10:3]))==1 or len(set(a[3:10:3]))==1 or len(set(a[1:10:4]))==1 or len(set(a[3:10:2]))==1:\n",
    "        print(\"finish\")\n",
    "        return True\n",
    "    else:\n",
    "        #print(\"continue\")\n",
    "        return False\n",
    "#board1=\"0123456789\"\n",
    "\n",
    "GAME1 = GAME_tictactoe()\n",
    "GAME1.DrawBoard()\n",
    "\n",
    "while True:\n",
    "    player_choose =int(input())\n",
    "    #player2_choose =int(input())\n",
    "    GAME1.player_move(player_choose)\n",
    "    if judger(GAME1.board1) == True:\n",
    "        print(\"playerwin\")\n",
    "        break\n",
    "    GAME1.computer_move()\n",
    "    if judger(GAME1.board1) == True:\n",
    "        print(\"computerwin\")\n",
    "        break\n",
    "    if len(set(GAME1.board1))==3:\n",
    "        print(\"和局\")\n",
    "        break\n"
   ]
  },
  {
   "cell_type": "code",
   "execution_count": 93,
   "metadata": {},
   "outputs": [
    {
     "ename": "TypeError",
     "evalue": "string indices must be integers",
     "output_type": "error",
     "traceback": [
      "\u001b[1;31m---------------------------------------------------------------------------\u001b[0m",
      "\u001b[1;31mTypeError\u001b[0m                                 Traceback (most recent call last)",
      "Cell \u001b[1;32mIn[93], line 3\u001b[0m\n\u001b[0;32m      1\u001b[0m \u001b[39m#GAME1.board1[1] in[\"1\",\"3\",\"7\",\"9\"]\u001b[39;00m\n\u001b[0;32m      2\u001b[0m GAME1\u001b[39m.\u001b[39mboard1\u001b[39m.\u001b[39mreplace(GAME1\u001b[39m.\u001b[39mboard1[j],\u001b[39m\"\u001b[39m\u001b[39mO\u001b[39m\u001b[39m\"\u001b[39m)\n\u001b[1;32m----> 3\u001b[0m GAME1\u001b[39m.\u001b[39;49mboard1[\u001b[39m\"\u001b[39;49m\u001b[39m1\u001b[39;49m\u001b[39m\"\u001b[39;49m]\n",
      "\u001b[1;31mTypeError\u001b[0m: string indices must be integers"
     ]
    }
   ],
   "source": [
    "#GAME1.board1[1] in[\"1\",\"3\",\"7\",\"9\"]\n",
    "GAME1.board1.replace(GAME1.board1[j],\"O\")\n",
    "GAME1.board1[\"1\"]"
   ]
  },
  {
   "cell_type": "code",
   "execution_count": 116,
   "metadata": {},
   "outputs": [
    {
     "name": "stdout",
     "output_type": "stream",
     "text": [
      "123\n",
      "A\n"
     ]
    }
   ],
   "source": [
    "def judger(lista):\n",
    "    if len(set(lista[1:4]))==1 or len(set(lista[4:7]))==1 or len(set(lista[7:10]))==1 or len(set(lista[1:10:3]))==1 or len(set(lista[2:10:3]))==1 or len(set(lista[3:10:3]))==1 or len(set(lista[1:10:4]))==1 or len(set(lista[3:10:2]))==1:\n",
    "        print(\"finish\")\n",
    "        return True\n",
    "    else:\n",
    "        print(\"continue\")\n",
    "        return False\n",
    "lista=\"A123456789\"\n",
    "print(lista[1:4])\n",
    "print(lista[0])"
   ]
  },
  {
   "cell_type": "code",
   "execution_count": 70,
   "metadata": {},
   "outputs": [
    {
     "data": {
      "text/plain": [
       "'AO234X6789'"
      ]
     },
     "execution_count": 70,
     "metadata": {},
     "output_type": "execute_result"
    }
   ],
   "source": [
    "#GAME1 = GAME_tictactoe()\n",
    "#GAME1.DrawBoard()\n",
    "#GAME1.board1.replace[GAME1.board1[1],\"O\"]\n",
    "copyboard1 =GAME1.board1 \n",
    "#replace(GAME1[1],\"O\")\n",
    "type(copyboard1)\n",
    "copyboard1.replace(\"1\",\"O\")\n"
   ]
  },
  {
   "cell_type": "code",
   "execution_count": 54,
   "metadata": {},
   "outputs": [
    {
     "name": "stdout",
     "output_type": "stream",
     "text": [
      "   |   |\n",
      "  7| 8 |9\n",
      "------------\n",
      "  4| 5 |6\n",
      "------------\n",
      "  1| 2 |3\n",
      "   |   |\n",
      "********************\n",
      "<class 'str'>\n",
      "0123456789\n",
      "0129456789\n",
      "13579\n"
     ]
    }
   ],
   "source": [
    "GAME2 = GAME_tictactoe()\n",
    "GAME2.DrawBoard()\n",
    "GAME2.board1\n",
    "copyboard = GAME2.board1\n",
    "print(type(GAME2.board1))\n",
    "print(copyboard)\n",
    "GAME2.board1 = GAME2.board1.replace(\"3\",\"9\")\n",
    "print(GAME2.board1)\n",
    "print(copyboard[1:10:2])\n"
   ]
  },
  {
   "cell_type": "code",
   "execution_count": 138,
   "metadata": {},
   "outputs": [
    {
     "name": "stdout",
     "output_type": "stream",
     "text": [
      "   |   |\n",
      "  7| 8 |9\n",
      "------------\n",
      "  4| 5 |6\n",
      "------------\n",
      "  1| 2 |3\n",
      "   |   |\n",
      "********************\n",
      "3\n",
      "A123456789\n"
     ]
    },
    {
     "data": {
      "text/plain": [
       "8"
      ]
     },
     "execution_count": 138,
     "metadata": {},
     "output_type": "execute_result"
    }
   ],
   "source": [
    "GAME2 = GAME_tictactoe()\n",
    "GAME2.DrawBoard()\n",
    "print(GAME2.board1[3])\n",
    "copyboard1 = GAME2.board1\n",
    "print(copyboard1)\n",
    "copyboard1 = copyboard1.replace(\"3\",\"O\")\n",
    "copyboard1\n",
    "round"
   ]
  }
 ],
 "metadata": {
  "kernelspec": {
   "display_name": "Python 3",
   "language": "python",
   "name": "python3"
  },
  "language_info": {
   "codemirror_mode": {
    "name": "ipython",
    "version": 3
   },
   "file_extension": ".py",
   "mimetype": "text/x-python",
   "name": "python",
   "nbconvert_exporter": "python",
   "pygments_lexer": "ipython3",
   "version": "3.8.5"
  },
  "orig_nbformat": 4,
  "vscode": {
   "interpreter": {
    "hash": "4bbd6dddf59da8c18c413141e5425410f4dbbd26dc67cf61a57b95968c3a42ab"
   }
  }
 },
 "nbformat": 4,
 "nbformat_minor": 2
}
