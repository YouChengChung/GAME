{
 "cells": [
  {
   "cell_type": "code",
   "execution_count": 2,
   "metadata": {},
   "outputs": [
    {
     "ename": "IndentationError",
     "evalue": "unexpected indent (1884665979.py, line 3)",
     "output_type": "error",
     "traceback": [
      "\u001b[1;36m  Cell \u001b[1;32mIn[2], line 3\u001b[1;36m\u001b[0m\n\u001b[1;33m    maze = [[2, 2, 0, 2, 0, 2, 2, 0, 0, 0],\u001b[0m\n\u001b[1;37m    ^\u001b[0m\n\u001b[1;31mIndentationError\u001b[0m\u001b[1;31m:\u001b[0m unexpected indent\n"
     ]
    }
   ],
   "source": [
    "#mazedf.shape[0]\n",
    "#mazedf[1][7]\n",
    "    maze = [[2, 2, 0, 2, 0, 2, 2, 0, 0, 0],\n",
    "            [2, 0, 0, 0, 0, 0, 0, 0, 2, 2],\n",
    "            [2, 2, 0, 2, 2, 0, 2, 0, 2, 2],\n",
    "            [0, 0, 0, 2, 0, 0, 0, 0, 0, 0],\n",
    "            [2, 2, 1, 2, 2, 0, 2, 2, 2, 0],\n",
    "            [2, 0, 2, 2, 0, 0, 0, 2, 0, 0],\n",
    "            [2, 0, 0, 2, 2, 0, 0, 4, 0, 0],\n",
    "            [2, 0, 0, 2, 2, 0, 0, 2, 0, 0]]\n",
    "        \n",
    "        "
   ]
  },
  {
   "attachments": {},
   "cell_type": "markdown",
   "metadata": {},
   "source": [
    "MATRIX\n"
   ]
  },
  {
   "cell_type": "code",
   "execution_count": 35,
   "metadata": {},
   "outputs": [
    {
     "name": "stdout",
     "output_type": "stream",
     "text": [
      "test: 1\n",
      "本次路徑長 16\n",
      "本次路徑： [[5, 3], [4, 3], [3, 3], [2, 3], [2, 4], [2, 5], [2, 6], [2, 7], [2, 8], [3, 8], [4, 8], [4, 7], [4, 6], [5, 6], [6, 6], [6, 7], [7, 7], [7, 8]]\n",
      "test: 2\n",
      "本次路徑長 18\n",
      "本次路徑： [[5, 3], [4, 3], [3, 3], [2, 3], [2, 4], [2, 5], [2, 6], [2, 7], [2, 8], [3, 8], [4, 8], [4, 9], [4, 10], [5, 10], [6, 10], [7, 10], [8, 10], [8, 9], [8, 8], [7, 8]]\n",
      "test: 3\n",
      "本次路徑長 12\n",
      "本次路徑： [[5, 3], [4, 3], [3, 3], [2, 3], [2, 4], [2, 5], [2, 6], [3, 6], [4, 6], [5, 6], [6, 6], [6, 7], [7, 7], [7, 8]]\n",
      "test: 4\n",
      "本次路徑長 12\n",
      "本次路徑： [[5, 3], [4, 3], [3, 3], [2, 3], [2, 4], [2, 5], [2, 6], [3, 6], [4, 6], [5, 6], [6, 6], [6, 7], [7, 7], [7, 8]]\n",
      "test: 5\n",
      "本次路徑長 18\n",
      "本次路徑： [[5, 3], [4, 3], [3, 3], [2, 3], [2, 4], [2, 5], [2, 6], [3, 6], [4, 6], [4, 7], [4, 8], [4, 9], [4, 10], [5, 10], [6, 10], [7, 10], [8, 10], [8, 9], [8, 8], [7, 8]]\n",
      "test: 6\n",
      "本次路徑長 12\n",
      "本次路徑： [[5, 3], [4, 3], [3, 3], [2, 3], [2, 4], [2, 5], [2, 6], [3, 6], [4, 6], [5, 6], [6, 6], [6, 7], [7, 7], [7, 8]]\n",
      "test: 7\n",
      "本次路徑長 12\n",
      "本次路徑： [[5, 3], [4, 3], [3, 3], [2, 3], [2, 4], [2, 5], [2, 6], [3, 6], [4, 6], [5, 6], [6, 6], [6, 7], [7, 7], [7, 8]]\n",
      "test: 8\n",
      "本次路徑長 12\n",
      "本次路徑： [[5, 3], [4, 3], [3, 3], [2, 3], [2, 4], [2, 5], [2, 6], [3, 6], [4, 6], [5, 6], [6, 6], [6, 7], [7, 7], [7, 8]]\n",
      "test: 9\n",
      "本次路徑長 16\n",
      "本次路徑： [[5, 3], [4, 3], [3, 3], [2, 3], [2, 4], [2, 5], [2, 6], [2, 7], [2, 8], [3, 8], [4, 8], [4, 7], [4, 6], [5, 6], [6, 6], [6, 7], [7, 7], [7, 8]]\n",
      "test: 10\n",
      "本次路徑長 18\n",
      "本次路徑： [[5, 3], [4, 3], [3, 3], [2, 3], [2, 4], [2, 5], [2, 6], [2, 7], [2, 8], [3, 8], [4, 8], [4, 9], [4, 10], [5, 10], [6, 10], [7, 10], [8, 10], [8, 9], [8, 8], [7, 8]]\n",
      "最短路徑: 12\n",
      "最短路線 [[5, 3], [4, 3], [3, 3], [2, 3], [2, 4], [2, 5], [2, 6], [3, 6], [4, 6], [5, 6], [6, 6], [6, 7], [7, 7], [7, 8]]\n"
     ]
    }
   ],
   "source": [
    "import time\n",
    "import random as rd\n",
    "\n",
    "def dir(co):\n",
    "    a = [co[0],co[1]+1]\n",
    "    b = [co[0],co[1]-1]\n",
    "    c = [co[0]+1,co[1]]\n",
    "    d = [co[0]-1,co[1]]\n",
    "    return [a,b,c,d]\n",
    "\n",
    "def createmaze():\n",
    "    maze1 =[[2, 2, 0, 2, 0, 2, 2, 0, 0, 0],\n",
    "            [2, 0, 0, 0, 0, 0, 0, 0, 2, 2],\n",
    "            [2, 2, 0, 2, 2, 0, 2, 0, 2, 2],\n",
    "            [0, 0, 0, 2, 0, 0, 0, 0, 0, 0],\n",
    "            [2, 2, 1, 2, 2, 0, 2, 2, 2, 0],\n",
    "            [2, 0, 2, 2, 0, 0, 0, 2, 0, 0],\n",
    "            [2, 0, 0, 2, 2, 2, 0, 4, 2, 0],\n",
    "            [2, 0, 0, 2, 2, 0, 2, 0, 0, 0]]\n",
    "    new_maze = maze1\n",
    "    temp_insert = []\n",
    "    for i in range(len(maze1[0]) + 2):\n",
    "        temp_insert.append(2)\n",
    "    for i in new_maze:\n",
    "        i.insert(0,2)\n",
    "        i.append(2)\n",
    "    new_maze.insert(0, temp_insert)\n",
    "    new_maze.append(temp_insert)\n",
    "    return new_maze\n",
    "def Mouse():\n",
    "    global pathmin\n",
    "    global bestroad\n",
    "    for i in range(1,11): \n",
    "        print(\"test:\",i)\n",
    "        maze = createmaze()\n",
    "        #for i in maze:\n",
    "            #print(i)\n",
    "        \"\"\"找起點\"\"\"\n",
    "        find_start=False\n",
    "        row=0\n",
    "        for i in maze:\n",
    "            col=0\n",
    "            for j in i :\n",
    "                if j!=1:\n",
    "                    col+=1\n",
    "                else:\n",
    "                    find_start=True\n",
    "                    break\n",
    "            if find_start==True:\n",
    "                break\n",
    "            row+=1\n",
    "        start_place=[row,col]\n",
    "        #print(\"起點：\",start_place)\n",
    "        \"\"\"找終點\"\"\"\n",
    "        find_destination=False\n",
    "        row=0\n",
    "        for i in maze:\n",
    "            col=0\n",
    "            for j in i :\n",
    "                if j!=4:\n",
    "                    col+=1\n",
    "                else:\n",
    "                    find_destination=True\n",
    "                    break\n",
    "            if find_destination==True:\n",
    "                break\n",
    "            row+=1\n",
    "        end_place=[row,col]\n",
    "\n",
    "        waystring=\"\"\n",
    "        waylist=[start_place]\n",
    "        lastcross=[]\n",
    "        while True:\n",
    "            nexts=dir(start_place)\n",
    "            #print(start_place)\n",
    "            #time.sleep(0.5)\n",
    "            way=[]\n",
    "            if maze[nexts[0][0]][nexts[0][1]] ==0 or maze[nexts[0][0]][nexts[0][1]] ==4:\n",
    "                way.append([start_place[0],start_place[1]+1]) \n",
    "                \n",
    "            if maze[nexts[1][0]][nexts[1][1]] ==0 or maze[nexts[0][0]][nexts[1][1]] ==4:\n",
    "                way.append([start_place[0],start_place[1]-1])\n",
    "                \n",
    "            if maze[nexts[2][0]][nexts[2][1]]==0 or maze[nexts[2][0]][nexts[2][1]]==4:\n",
    "                way.append([start_place[0]+1,start_place[1]])\n",
    "                \n",
    "            if maze[nexts[3][0]][nexts[3][1]] ==0 or maze[nexts[3][0]][nexts[3][1]] ==4:\n",
    "                way.append([start_place[0]-1,start_place[1]])\n",
    "\n",
    "            if end_place in way:\n",
    "                waylist.append(end_place)\n",
    "                break\n",
    "            if len(way)==0: #死路、終點\n",
    "                if maze[start_place[0]][start_place[1]] ==4:\n",
    "                    #print(\"終點\")\n",
    "                    break\n",
    "                else: \n",
    "                    start_place = [lastcross[[-1][0]][0],lastcross[[-1][0]][1]]\n",
    "                    lastcross.pop()\n",
    "                    #print(\"死路，回到\",start_place)\n",
    "                    #print(waylist)\n",
    "                    #print(\"這些要改成牆壁：\",end =\"\")\n",
    "                    for i in waylist[waylist.index(start_place)+1:]: #移除上次路口到本次死路路徑\n",
    "                        #print(i,end =\"\")\n",
    "                        waylist.remove(i)\n",
    "                        maze[i[0]][i[1]] = 9        \n",
    "            elif len(way)==1:\n",
    "                maze[start_place[0]][start_place[1]] = 3\n",
    "                start_place = way[0]\n",
    "                waylist.append(way[0])\n",
    "                #print(\"路徑,\",waylist)\n",
    "\n",
    "            elif len(way)>=2:\n",
    "                #print(\"路口\",start_place)\n",
    "                maze[start_place[0]][start_place[1]] = 3\n",
    "                lastcross.append([start_place[0],start_place[1]])\n",
    "                #print(lastcross)\n",
    "                start_place = way[rd.randint(0,len(way)-1)] #右左下上\n",
    "                #print(\"這次走\",start_place)\n",
    "                waylist.append(start_place)\n",
    "                maze[start_place[0]][start_place[1]] = 3\n",
    "                #print(\"路徑：\",waylist)\n",
    "            else :\n",
    "                print(\"unknow error\")\n",
    "            #for k in maze:\n",
    "                #print(k)\n",
    "        path = 0\n",
    "        for i in maze:\n",
    "            for j in i:\n",
    "                if j==3:\n",
    "                    path+=1\n",
    "        print(\"本次路徑長\",path)\n",
    "        print(\"本次路徑：\",waylist)\n",
    "        if path <pathmin:\n",
    "            pathmin = path\n",
    "            bestroad = waylist\n",
    "        #for i in maze:\n",
    "        #    print(i)\n",
    "\n",
    "pathmin = 999 \n",
    "Mouse()\n",
    "print(\"最短路徑:\",pathmin)\n",
    "print(\"最短路線\",bestroad)"
   ]
  },
  {
   "cell_type": "code",
   "execution_count": 15,
   "metadata": {},
   "outputs": [
    {
     "data": {
      "text/plain": [
       "9"
      ]
     },
     "execution_count": 15,
     "metadata": {},
     "output_type": "execute_result"
    }
   ],
   "source": [
    "q = [[2, 5], [2, 6], [4, 6], [6, 10], [7, 10], [9, 9]]\n",
    "q[[-1][0]][0]"
   ]
  },
  {
   "cell_type": "code",
   "execution_count": 261,
   "metadata": {},
   "outputs": [
    {
     "ename": "NameError",
     "evalue": "name 'lastcross' is not defined",
     "output_type": "error",
     "traceback": [
      "\u001b[1;31m---------------------------------------------------------------------------\u001b[0m",
      "\u001b[1;31mNameError\u001b[0m                                 Traceback (most recent call last)",
      "Cell \u001b[1;32mIn[261], line 1\u001b[0m\n\u001b[1;32m----> 1\u001b[0m lastcross[\u001b[39m-\u001b[39m\u001b[39m1\u001b[39m][\u001b[39m0\u001b[39m]\n",
      "\u001b[1;31mNameError\u001b[0m: name 'lastcross' is not defined"
     ]
    }
   ],
   "source": [
    "lastcross[-1][0]"
   ]
  },
  {
   "cell_type": "code",
   "execution_count": 217,
   "metadata": {},
   "outputs": [
    {
     "name": "stdout",
     "output_type": "stream",
     "text": [
      "0\n",
      "1\n",
      "2\n",
      "3\n"
     ]
    }
   ],
   "source": [
    "for l in range(4):\n",
    "    print(l)"
   ]
  },
  {
   "cell_type": "code",
   "execution_count": 27,
   "metadata": {},
   "outputs": [],
   "source": [
    "def createmaze():\n",
    "    maze1 =[[2, 2, 0, 2, 0, 2, 2, 0, 0, 0],\n",
    "            [2, 0, 0, 0, 0, 0, 0, 0, 2, 2],\n",
    "            [2, 2, 0, 2, 2, 0, 2, 0, 2, 2],\n",
    "            [0, 0, 0, 2, 0, 0, 0, 0, 0, 0],\n",
    "            [2, 2, 1, 2, 2, 0, 2, 2, 2, 0],\n",
    "            [2, 0, 2, 2, 0, 0, 0, 2, 0, 0],\n",
    "            [2, 0, 0, 2, 2, 2, 0, 4, 2, 0],\n",
    "            [2, 0, 0, 2, 2, 0, 0, 2, 0, 0]]\n",
    "    new_maze = maze1\n",
    "    temp_insert = []\n",
    "    for i in range(len(maze1[0]) + 2):\n",
    "        temp_insert.append(2)\n",
    "    for i in new_maze:\n",
    "        i.insert(0,2)\n",
    "        i.append(2)\n",
    "    new_maze.insert(0, temp_insert)\n",
    "    new_maze.append(temp_insert)\n",
    "    return new_maze\n",
    "m1 = createmaze()\n"
   ]
  }
 ],
 "metadata": {
  "kernelspec": {
   "display_name": "Python 3",
   "language": "python",
   "name": "python3"
  },
  "language_info": {
   "codemirror_mode": {
    "name": "ipython",
    "version": 3
   },
   "file_extension": ".py",
   "mimetype": "text/x-python",
   "name": "python",
   "nbconvert_exporter": "python",
   "pygments_lexer": "ipython3",
   "version": "3.8.5"
  },
  "orig_nbformat": 4,
  "vscode": {
   "interpreter": {
    "hash": "4bbd6dddf59da8c18c413141e5425410f4dbbd26dc67cf61a57b95968c3a42ab"
   }
  }
 },
 "nbformat": 4,
 "nbformat_minor": 2
}
